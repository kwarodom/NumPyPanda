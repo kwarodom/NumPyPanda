{
 "cells": [
  {
   "cell_type": "markdown",
   "metadata": {},
   "source": [
    "#Pandas Aggregating Data -> to compute summarized statistics of data\n",
    "\n",
    "1. Loading a comma-separated value (CSV) dataset\n",
    "2. Computing descriptive statistics\n",
    "3. Grouping data by value\n",
    "4. Creating pivot tables"
   ]
  },
  {
   "cell_type": "code",
   "execution_count": 1,
   "metadata": {
    "collapsed": true
   },
   "outputs": [],
   "source": [
    "import pandas as pd"
   ]
  },
  {
   "cell_type": "code",
   "execution_count": 2,
   "metadata": {
    "collapsed": false
   },
   "outputs": [
    {
     "data": {
      "text/plain": [
       "['\"total_bill\",\"tip\",\"sex\",\"smoker\",\"day\",\"time\",\"size\"\\n',\n",
       " '16.99,1.01,\"Female\",\"No\",\"Sun\",\"Dinner\",2\\n',\n",
       " '10.34,1.66,\"Male\",\"No\",\"Sun\",\"Dinner\",3\\n',\n",
       " '21.01,3.5,\"Male\",\"No\",\"Sun\",\"Dinner\",3\\n',\n",
       " '23.68,3.31,\"Male\",\"No\",\"Sun\",\"Dinner\",2\\n',\n",
       " '24.59,3.61,\"Female\",\"No\",\"Sun\",\"Dinner\",4\\n',\n",
       " '25.29,4.71,\"Male\",\"No\",\"Sun\",\"Dinner\",4\\n',\n",
       " '8.77,2,\"Male\",\"No\",\"Sun\",\"Dinner\",2\\n',\n",
       " '26.88,3.12,\"Male\",\"No\",\"Sun\",\"Dinner\",4\\n',\n",
       " '15.04,1.96,\"Male\",\"No\",\"Sun\",\"Dinner\",2\\n']"
      ]
     },
     "execution_count": 2,
     "metadata": {},
     "output_type": "execute_result"
    }
   ],
   "source": [
    "open('tips.csv','r').readlines()[:10]"
   ]
  },
  {
   "cell_type": "code",
   "execution_count": null,
   "metadata": {
    "collapsed": true
   },
   "outputs": [],
   "source": []
  }
 ],
 "metadata": {
  "kernelspec": {
   "display_name": "Python 2",
   "language": "python",
   "name": "python2"
  },
  "language_info": {
   "codemirror_mode": {
    "name": "ipython",
    "version": 2
   },
   "file_extension": ".py",
   "mimetype": "text/x-python",
   "name": "python",
   "nbconvert_exporter": "python",
   "pygments_lexer": "ipython2",
   "version": "2.7.6"
  }
 },
 "nbformat": 4,
 "nbformat_minor": 0
}
