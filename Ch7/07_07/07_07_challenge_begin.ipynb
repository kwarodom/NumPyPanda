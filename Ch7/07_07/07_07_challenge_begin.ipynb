{
 "cells": [
  {
   "cell_type": "markdown",
   "metadata": {},
   "source": [
    "# Challenge Objectives\n",
    "\n",
    "1. Compute the number of times that each name was used separately for boys and girls\n",
    "2. Identify the unisex names where the ratio between the boys and girls totals is between 1-to-4 and 4-to-1"
   ]
  },
  {
   "cell_type": "code",
   "execution_count": 1,
   "metadata": {
    "collapsed": true
   },
   "outputs": [],
   "source": [
    "import numpy as np\n",
    "import matplotlib.pyplot as pp\n",
    "import pandas as pd\n",
    "import seaborn"
   ]
  },
  {
   "cell_type": "code",
   "execution_count": 2,
   "metadata": {
    "collapsed": true
   },
   "outputs": [],
   "source": [
    "%matplotlib inline"
   ]
  },
  {
   "cell_type": "code",
   "execution_count": 3,
   "metadata": {
    "collapsed": true
   },
   "outputs": [],
   "source": [
    "import zipfile\n",
    "zipfile.ZipFile('names.zip').extractall('.')"
   ]
  },
  {
   "cell_type": "code",
   "execution_count": 4,
   "metadata": {
    "collapsed": false
   },
   "outputs": [
    {
     "data": {
      "text/plain": [
       "['yob1906.txt',\n",
       " 'yob1951.txt',\n",
       " 'yob1990.txt',\n",
       " 'yob1984.txt',\n",
       " 'yob1959.txt',\n",
       " 'yob1920.txt',\n",
       " 'yob1880.txt',\n",
       " 'yob2007.txt',\n",
       " 'yob1966.txt',\n",
       " 'yob1922.txt',\n",
       " 'yob1976.txt',\n",
       " 'yob1950.txt',\n",
       " 'yob1923.txt',\n",
       " 'yob1968.txt',\n",
       " 'yob1921.txt',\n",
       " 'yob1929.txt',\n",
       " 'yob1905.txt',\n",
       " 'yob1960.txt',\n",
       " 'yob1955.txt',\n",
       " 'yob1977.txt',\n",
       " 'yob1898.txt',\n",
       " 'yob1907.txt',\n",
       " 'yob1998.txt',\n",
       " 'yob1994.txt',\n",
       " 'yob1978.txt',\n",
       " 'yob1892.txt',\n",
       " 'yob1981.txt',\n",
       " 'yob1987.txt',\n",
       " 'yob1897.txt',\n",
       " 'yob1882.txt',\n",
       " 'yob2013.txt',\n",
       " 'yob1918.txt',\n",
       " 'yob1942.txt',\n",
       " 'yob2004.txt',\n",
       " 'yob1999.txt',\n",
       " 'yob1925.txt',\n",
       " 'yob1940.txt',\n",
       " 'yob1901.txt',\n",
       " 'yob1938.txt',\n",
       " 'yob1941.txt',\n",
       " 'yob1973.txt',\n",
       " 'yob1932.txt',\n",
       " 'yob1996.txt',\n",
       " 'yob1991.txt',\n",
       " 'yob1963.txt',\n",
       " 'yob1904.txt',\n",
       " 'yob1962.txt',\n",
       " 'yob1891.txt',\n",
       " 'yob1952.txt',\n",
       " 'yob1930.txt',\n",
       " 'yob1916.txt',\n",
       " 'yob1958.txt',\n",
       " 'yob1911.txt',\n",
       " 'yob1943.txt',\n",
       " 'yob1980.txt',\n",
       " 'yob2002.txt',\n",
       " 'yob1893.txt',\n",
       " 'yob2009.txt',\n",
       " 'yob1969.txt',\n",
       " 'yob1974.txt',\n",
       " 'yob1935.txt',\n",
       " 'yob1964.txt',\n",
       " 'yob1965.txt',\n",
       " 'yob2014.txt',\n",
       " 'yob1886.txt',\n",
       " 'yob1946.txt',\n",
       " 'yob2010.txt',\n",
       " 'yob1970.txt',\n",
       " 'yob1961.txt',\n",
       " 'yob1899.txt',\n",
       " 'yob2003.txt',\n",
       " 'yob1948.txt',\n",
       " 'yob1989.txt',\n",
       " 'yob2001.txt',\n",
       " 'yob1913.txt',\n",
       " 'yob1927.txt',\n",
       " 'yob1909.txt',\n",
       " 'yob1910.txt',\n",
       " 'yob2012.txt',\n",
       " 'yob1939.txt',\n",
       " 'yob1986.txt',\n",
       " 'yob1975.txt',\n",
       " 'yob1993.txt',\n",
       " 'yob1953.txt',\n",
       " 'yob1954.txt',\n",
       " 'yob1902.txt',\n",
       " 'yob1917.txt',\n",
       " 'yob1890.txt',\n",
       " 'yob1992.txt',\n",
       " 'yob1914.txt',\n",
       " 'yob1967.txt',\n",
       " 'yob1988.txt',\n",
       " 'yob1956.txt',\n",
       " 'yob1944.txt',\n",
       " 'yob2000.txt',\n",
       " 'yob1896.txt',\n",
       " 'yob2011.txt',\n",
       " 'yob1881.txt',\n",
       " 'yob1884.txt',\n",
       " 'yob1933.txt',\n",
       " 'yob1979.txt',\n",
       " 'yob1972.txt',\n",
       " 'yob1924.txt',\n",
       " 'yob1889.txt',\n",
       " 'yob2006.txt',\n",
       " 'yob1903.txt',\n",
       " 'yob1936.txt',\n",
       " 'yob1926.txt',\n",
       " 'yob1937.txt',\n",
       " 'yob1982.txt',\n",
       " 'yob1919.txt',\n",
       " 'yob1949.txt',\n",
       " 'yob1894.txt',\n",
       " 'yob1928.txt',\n",
       " 'yob1995.txt',\n",
       " 'yob1971.txt',\n",
       " 'yob2005.txt',\n",
       " 'yob1883.txt',\n",
       " 'yob1908.txt',\n",
       " 'yob1997.txt',\n",
       " 'yob1931.txt',\n",
       " 'yob1900.txt',\n",
       " 'yob1983.txt',\n",
       " 'yob1947.txt',\n",
       " 'NationalReadMe.pdf',\n",
       " 'yob1915.txt',\n",
       " 'yob1895.txt',\n",
       " 'yob1985.txt',\n",
       " 'yob1912.txt',\n",
       " 'yob2008.txt',\n",
       " 'yob1934.txt',\n",
       " 'yob1945.txt',\n",
       " 'yob1885.txt',\n",
       " 'yob1888.txt',\n",
       " 'yob1887.txt',\n",
       " 'yob1957.txt']"
      ]
     },
     "execution_count": 4,
     "metadata": {},
     "output_type": "execute_result"
    }
   ],
   "source": [
    "import os\n",
    "os.listdir('names')"
   ]
  },
  {
   "cell_type": "code",
   "execution_count": 5,
   "metadata": {
    "collapsed": false
   },
   "outputs": [
    {
     "data": {
      "text/plain": [
       "['Sophia,F,21816\\r\\n',\n",
       " 'Isabella,F,19870\\r\\n',\n",
       " 'Emma,F,18777\\r\\n',\n",
       " 'Olivia,F,17294\\r\\n',\n",
       " 'Ava,F,15480\\r\\n',\n",
       " 'Emily,F,14236\\r\\n',\n",
       " 'Abigail,F,13229\\r\\n',\n",
       " 'Madison,F,12360\\r\\n',\n",
       " 'Mia,F,11512\\r\\n',\n",
       " 'Chloe,F,10970\\r\\n']"
      ]
     },
     "execution_count": 5,
     "metadata": {},
     "output_type": "execute_result"
    }
   ],
   "source": [
    "open('names/yob2011.txt','r').readlines()[:10]"
   ]
  },
  {
   "cell_type": "code",
   "execution_count": 6,
   "metadata": {
    "collapsed": true
   },
   "outputs": [],
   "source": [
    "names2011 = pd.read_csv('names/yob2011.txt')"
   ]
  },
  {
   "cell_type": "code",
   "execution_count": 7,
   "metadata": {
    "collapsed": false
   },
   "outputs": [
    {
     "data": {
      "text/html": [
       "<div>\n",
       "<table border=\"1\" class=\"dataframe\">\n",
       "  <thead>\n",
       "    <tr style=\"text-align: right;\">\n",
       "      <th></th>\n",
       "      <th>Sophia</th>\n",
       "      <th>F</th>\n",
       "      <th>21816</th>\n",
       "    </tr>\n",
       "  </thead>\n",
       "  <tbody>\n",
       "    <tr>\n",
       "      <th>0</th>\n",
       "      <td>Isabella</td>\n",
       "      <td>F</td>\n",
       "      <td>19870</td>\n",
       "    </tr>\n",
       "    <tr>\n",
       "      <th>1</th>\n",
       "      <td>Emma</td>\n",
       "      <td>F</td>\n",
       "      <td>18777</td>\n",
       "    </tr>\n",
       "    <tr>\n",
       "      <th>2</th>\n",
       "      <td>Olivia</td>\n",
       "      <td>F</td>\n",
       "      <td>17294</td>\n",
       "    </tr>\n",
       "    <tr>\n",
       "      <th>3</th>\n",
       "      <td>Ava</td>\n",
       "      <td>F</td>\n",
       "      <td>15480</td>\n",
       "    </tr>\n",
       "    <tr>\n",
       "      <th>4</th>\n",
       "      <td>Emily</td>\n",
       "      <td>F</td>\n",
       "      <td>14236</td>\n",
       "    </tr>\n",
       "  </tbody>\n",
       "</table>\n",
       "</div>"
      ],
      "text/plain": [
       "     Sophia  F  21816\n",
       "0  Isabella  F  19870\n",
       "1      Emma  F  18777\n",
       "2    Olivia  F  17294\n",
       "3       Ava  F  15480\n",
       "4     Emily  F  14236"
      ]
     },
     "execution_count": 7,
     "metadata": {},
     "output_type": "execute_result"
    }
   ],
   "source": [
    "names2011.head()"
   ]
  },
  {
   "cell_type": "code",
   "execution_count": 8,
   "metadata": {
    "collapsed": true
   },
   "outputs": [],
   "source": [
    "names2011 = pd.read_csv('names/yob2011.txt',names=['name','sex','number'])"
   ]
  },
  {
   "cell_type": "code",
   "execution_count": 9,
   "metadata": {
    "collapsed": false
   },
   "outputs": [
    {
     "data": {
      "text/html": [
       "<div>\n",
       "<table border=\"1\" class=\"dataframe\">\n",
       "  <thead>\n",
       "    <tr style=\"text-align: right;\">\n",
       "      <th></th>\n",
       "      <th>name</th>\n",
       "      <th>sex</th>\n",
       "      <th>number</th>\n",
       "    </tr>\n",
       "  </thead>\n",
       "  <tbody>\n",
       "    <tr>\n",
       "      <th>0</th>\n",
       "      <td>Sophia</td>\n",
       "      <td>F</td>\n",
       "      <td>21816</td>\n",
       "    </tr>\n",
       "    <tr>\n",
       "      <th>1</th>\n",
       "      <td>Isabella</td>\n",
       "      <td>F</td>\n",
       "      <td>19870</td>\n",
       "    </tr>\n",
       "    <tr>\n",
       "      <th>2</th>\n",
       "      <td>Emma</td>\n",
       "      <td>F</td>\n",
       "      <td>18777</td>\n",
       "    </tr>\n",
       "    <tr>\n",
       "      <th>3</th>\n",
       "      <td>Olivia</td>\n",
       "      <td>F</td>\n",
       "      <td>17294</td>\n",
       "    </tr>\n",
       "    <tr>\n",
       "      <th>4</th>\n",
       "      <td>Ava</td>\n",
       "      <td>F</td>\n",
       "      <td>15480</td>\n",
       "    </tr>\n",
       "  </tbody>\n",
       "</table>\n",
       "</div>"
      ],
      "text/plain": [
       "       name sex  number\n",
       "0    Sophia   F   21816\n",
       "1  Isabella   F   19870\n",
       "2      Emma   F   18777\n",
       "3    Olivia   F   17294\n",
       "4       Ava   F   15480"
      ]
     },
     "execution_count": 9,
     "metadata": {},
     "output_type": "execute_result"
    }
   ],
   "source": [
    "names2011.head()"
   ]
  },
  {
   "cell_type": "code",
   "execution_count": 10,
   "metadata": {
    "collapsed": true
   },
   "outputs": [],
   "source": [
    "names_all = []\n",
    "\n",
    "for year in range(1880,2014+1):\n",
    "    names_all.append(pd.read_csv('names/yob{}.txt'.format(year),names=['name','sex','number']))\n",
    "    names_all[-1]['year'] = year\n",
    "\n",
    "allyears = pd.concat(names_all)"
   ]
  },
  {
   "cell_type": "code",
   "execution_count": 11,
   "metadata": {
    "collapsed": false
   },
   "outputs": [
    {
     "data": {
      "text/html": [
       "<div>\n",
       "<table border=\"1\" class=\"dataframe\">\n",
       "  <thead>\n",
       "    <tr style=\"text-align: right;\">\n",
       "      <th></th>\n",
       "      <th>name</th>\n",
       "      <th>sex</th>\n",
       "      <th>number</th>\n",
       "      <th>year</th>\n",
       "    </tr>\n",
       "  </thead>\n",
       "  <tbody>\n",
       "    <tr>\n",
       "      <th>0</th>\n",
       "      <td>Mary</td>\n",
       "      <td>F</td>\n",
       "      <td>7065</td>\n",
       "      <td>1880</td>\n",
       "    </tr>\n",
       "    <tr>\n",
       "      <th>1</th>\n",
       "      <td>Anna</td>\n",
       "      <td>F</td>\n",
       "      <td>2604</td>\n",
       "      <td>1880</td>\n",
       "    </tr>\n",
       "    <tr>\n",
       "      <th>2</th>\n",
       "      <td>Emma</td>\n",
       "      <td>F</td>\n",
       "      <td>2003</td>\n",
       "      <td>1880</td>\n",
       "    </tr>\n",
       "    <tr>\n",
       "      <th>3</th>\n",
       "      <td>Elizabeth</td>\n",
       "      <td>F</td>\n",
       "      <td>1939</td>\n",
       "      <td>1880</td>\n",
       "    </tr>\n",
       "    <tr>\n",
       "      <th>4</th>\n",
       "      <td>Minnie</td>\n",
       "      <td>F</td>\n",
       "      <td>1746</td>\n",
       "      <td>1880</td>\n",
       "    </tr>\n",
       "  </tbody>\n",
       "</table>\n",
       "</div>"
      ],
      "text/plain": [
       "        name sex  number  year\n",
       "0       Mary   F    7065  1880\n",
       "1       Anna   F    2604  1880\n",
       "2       Emma   F    2003  1880\n",
       "3  Elizabeth   F    1939  1880\n",
       "4     Minnie   F    1746  1880"
      ]
     },
     "execution_count": 11,
     "metadata": {},
     "output_type": "execute_result"
    }
   ],
   "source": [
    "allyears.head()"
   ]
  },
  {
   "cell_type": "code",
   "execution_count": 12,
   "metadata": {
    "collapsed": false
   },
   "outputs": [
    {
     "data": {
      "text/html": [
       "<div>\n",
       "<table border=\"1\" class=\"dataframe\">\n",
       "  <thead>\n",
       "    <tr style=\"text-align: right;\">\n",
       "      <th></th>\n",
       "      <th>name</th>\n",
       "      <th>sex</th>\n",
       "      <th>number</th>\n",
       "      <th>year</th>\n",
       "    </tr>\n",
       "  </thead>\n",
       "  <tbody>\n",
       "    <tr>\n",
       "      <th>33039</th>\n",
       "      <td>Zykeem</td>\n",
       "      <td>M</td>\n",
       "      <td>5</td>\n",
       "      <td>2014</td>\n",
       "    </tr>\n",
       "    <tr>\n",
       "      <th>33040</th>\n",
       "      <td>Zymeer</td>\n",
       "      <td>M</td>\n",
       "      <td>5</td>\n",
       "      <td>2014</td>\n",
       "    </tr>\n",
       "    <tr>\n",
       "      <th>33041</th>\n",
       "      <td>Zymiere</td>\n",
       "      <td>M</td>\n",
       "      <td>5</td>\n",
       "      <td>2014</td>\n",
       "    </tr>\n",
       "    <tr>\n",
       "      <th>33042</th>\n",
       "      <td>Zyran</td>\n",
       "      <td>M</td>\n",
       "      <td>5</td>\n",
       "      <td>2014</td>\n",
       "    </tr>\n",
       "    <tr>\n",
       "      <th>33043</th>\n",
       "      <td>Zyrin</td>\n",
       "      <td>M</td>\n",
       "      <td>5</td>\n",
       "      <td>2014</td>\n",
       "    </tr>\n",
       "  </tbody>\n",
       "</table>\n",
       "</div>"
      ],
      "text/plain": [
       "          name sex  number  year\n",
       "33039   Zykeem   M       5  2014\n",
       "33040   Zymeer   M       5  2014\n",
       "33041  Zymiere   M       5  2014\n",
       "33042    Zyran   M       5  2014\n",
       "33043    Zyrin   M       5  2014"
      ]
     },
     "execution_count": 12,
     "metadata": {},
     "output_type": "execute_result"
    }
   ],
   "source": [
    "allyears.tail()"
   ]
  },
  {
   "cell_type": "code",
   "execution_count": 13,
   "metadata": {
    "collapsed": true
   },
   "outputs": [],
   "source": [
    "allyears_indexed = allyears.set_index(['sex','name','year']).sort_index()"
   ]
  },
  {
   "cell_type": "code",
   "execution_count": 14,
   "metadata": {
    "collapsed": false
   },
   "outputs": [
    {
     "data": {
      "text/html": [
       "<div>\n",
       "<table border=\"1\" class=\"dataframe\">\n",
       "  <thead>\n",
       "    <tr style=\"text-align: right;\">\n",
       "      <th></th>\n",
       "      <th></th>\n",
       "      <th></th>\n",
       "      <th>number</th>\n",
       "    </tr>\n",
       "    <tr>\n",
       "      <th>sex</th>\n",
       "      <th>name</th>\n",
       "      <th>year</th>\n",
       "      <th></th>\n",
       "    </tr>\n",
       "  </thead>\n",
       "  <tbody>\n",
       "    <tr>\n",
       "      <th rowspan=\"30\" valign=\"top\">F</th>\n",
       "      <th rowspan=\"3\" valign=\"top\">Aabha</th>\n",
       "      <th>2011</th>\n",
       "      <td>7</td>\n",
       "    </tr>\n",
       "    <tr>\n",
       "      <th>2012</th>\n",
       "      <td>5</td>\n",
       "    </tr>\n",
       "    <tr>\n",
       "      <th>2014</th>\n",
       "      <td>9</td>\n",
       "    </tr>\n",
       "    <tr>\n",
       "      <th rowspan=\"2\" valign=\"top\">Aabriella</th>\n",
       "      <th>2008</th>\n",
       "      <td>5</td>\n",
       "    </tr>\n",
       "    <tr>\n",
       "      <th>2014</th>\n",
       "      <td>5</td>\n",
       "    </tr>\n",
       "    <tr>\n",
       "      <th>Aaden</th>\n",
       "      <th>2009</th>\n",
       "      <td>5</td>\n",
       "    </tr>\n",
       "    <tr>\n",
       "      <th rowspan=\"3\" valign=\"top\">Aadhira</th>\n",
       "      <th>2012</th>\n",
       "      <td>6</td>\n",
       "    </tr>\n",
       "    <tr>\n",
       "      <th>2013</th>\n",
       "      <td>10</td>\n",
       "    </tr>\n",
       "    <tr>\n",
       "      <th>2014</th>\n",
       "      <td>13</td>\n",
       "    </tr>\n",
       "    <tr>\n",
       "      <th rowspan=\"8\" valign=\"top\">Aadhya</th>\n",
       "      <th>2007</th>\n",
       "      <td>10</td>\n",
       "    </tr>\n",
       "    <tr>\n",
       "      <th>2008</th>\n",
       "      <td>9</td>\n",
       "    </tr>\n",
       "    <tr>\n",
       "      <th>2009</th>\n",
       "      <td>18</td>\n",
       "    </tr>\n",
       "    <tr>\n",
       "      <th>2010</th>\n",
       "      <td>19</td>\n",
       "    </tr>\n",
       "    <tr>\n",
       "      <th>2011</th>\n",
       "      <td>52</td>\n",
       "    </tr>\n",
       "    <tr>\n",
       "      <th>2012</th>\n",
       "      <td>110</td>\n",
       "    </tr>\n",
       "    <tr>\n",
       "      <th>2013</th>\n",
       "      <td>172</td>\n",
       "    </tr>\n",
       "    <tr>\n",
       "      <th>2014</th>\n",
       "      <td>249</td>\n",
       "    </tr>\n",
       "    <tr>\n",
       "      <th rowspan=\"3\" valign=\"top\">Aadi</th>\n",
       "      <th>2006</th>\n",
       "      <td>5</td>\n",
       "    </tr>\n",
       "    <tr>\n",
       "      <th>2012</th>\n",
       "      <td>5</td>\n",
       "    </tr>\n",
       "    <tr>\n",
       "      <th>2013</th>\n",
       "      <td>6</td>\n",
       "    </tr>\n",
       "    <tr>\n",
       "      <th rowspan=\"2\" valign=\"top\">Aadison</th>\n",
       "      <th>2009</th>\n",
       "      <td>6</td>\n",
       "    </tr>\n",
       "    <tr>\n",
       "      <th>2012</th>\n",
       "      <td>5</td>\n",
       "    </tr>\n",
       "    <tr>\n",
       "      <th rowspan=\"4\" valign=\"top\">Aaditri</th>\n",
       "      <th>2010</th>\n",
       "      <td>5</td>\n",
       "    </tr>\n",
       "    <tr>\n",
       "      <th>2012</th>\n",
       "      <td>5</td>\n",
       "    </tr>\n",
       "    <tr>\n",
       "      <th>2013</th>\n",
       "      <td>6</td>\n",
       "    </tr>\n",
       "    <tr>\n",
       "      <th>2014</th>\n",
       "      <td>10</td>\n",
       "    </tr>\n",
       "    <tr>\n",
       "      <th rowspan=\"2\" valign=\"top\">Aadrika</th>\n",
       "      <th>2013</th>\n",
       "      <td>5</td>\n",
       "    </tr>\n",
       "    <tr>\n",
       "      <th>2014</th>\n",
       "      <td>5</td>\n",
       "    </tr>\n",
       "    <tr>\n",
       "      <th rowspan=\"2\" valign=\"top\">Aadvika</th>\n",
       "      <th>2013</th>\n",
       "      <td>6</td>\n",
       "    </tr>\n",
       "    <tr>\n",
       "      <th>2014</th>\n",
       "      <td>7</td>\n",
       "    </tr>\n",
       "    <tr>\n",
       "      <th>...</th>\n",
       "      <th>...</th>\n",
       "      <th>...</th>\n",
       "      <td>...</td>\n",
       "    </tr>\n",
       "    <tr>\n",
       "      <th rowspan=\"30\" valign=\"top\">M</th>\n",
       "      <th rowspan=\"7\" valign=\"top\">Zyshawn</th>\n",
       "      <th>2008</th>\n",
       "      <td>14</td>\n",
       "    </tr>\n",
       "    <tr>\n",
       "      <th>2009</th>\n",
       "      <td>7</td>\n",
       "    </tr>\n",
       "    <tr>\n",
       "      <th>2010</th>\n",
       "      <td>9</td>\n",
       "    </tr>\n",
       "    <tr>\n",
       "      <th>2011</th>\n",
       "      <td>5</td>\n",
       "    </tr>\n",
       "    <tr>\n",
       "      <th>2012</th>\n",
       "      <td>10</td>\n",
       "    </tr>\n",
       "    <tr>\n",
       "      <th>2013</th>\n",
       "      <td>13</td>\n",
       "    </tr>\n",
       "    <tr>\n",
       "      <th>2014</th>\n",
       "      <td>6</td>\n",
       "    </tr>\n",
       "    <tr>\n",
       "      <th rowspan=\"3\" valign=\"top\">Zyshon</th>\n",
       "      <th>1998</th>\n",
       "      <td>8</td>\n",
       "    </tr>\n",
       "    <tr>\n",
       "      <th>2001</th>\n",
       "      <td>6</td>\n",
       "    </tr>\n",
       "    <tr>\n",
       "      <th>2005</th>\n",
       "      <td>5</td>\n",
       "    </tr>\n",
       "    <tr>\n",
       "      <th rowspan=\"6\" valign=\"top\">Zyshonne</th>\n",
       "      <th>1998</th>\n",
       "      <td>26</td>\n",
       "    </tr>\n",
       "    <tr>\n",
       "      <th>1999</th>\n",
       "      <td>30</td>\n",
       "    </tr>\n",
       "    <tr>\n",
       "      <th>2000</th>\n",
       "      <td>17</td>\n",
       "    </tr>\n",
       "    <tr>\n",
       "      <th>2001</th>\n",
       "      <td>12</td>\n",
       "    </tr>\n",
       "    <tr>\n",
       "      <th>2002</th>\n",
       "      <td>9</td>\n",
       "    </tr>\n",
       "    <tr>\n",
       "      <th>2003</th>\n",
       "      <td>7</td>\n",
       "    </tr>\n",
       "    <tr>\n",
       "      <th>Zytaevius</th>\n",
       "      <th>2012</th>\n",
       "      <td>5</td>\n",
       "    </tr>\n",
       "    <tr>\n",
       "      <th rowspan=\"2\" valign=\"top\">Zytaveon</th>\n",
       "      <th>2011</th>\n",
       "      <td>8</td>\n",
       "    </tr>\n",
       "    <tr>\n",
       "      <th>2014</th>\n",
       "      <td>7</td>\n",
       "    </tr>\n",
       "    <tr>\n",
       "      <th>Zytavion</th>\n",
       "      <th>2011</th>\n",
       "      <td>5</td>\n",
       "    </tr>\n",
       "    <tr>\n",
       "      <th rowspan=\"7\" valign=\"top\">Zytavious</th>\n",
       "      <th>2002</th>\n",
       "      <td>6</td>\n",
       "    </tr>\n",
       "    <tr>\n",
       "      <th>2004</th>\n",
       "      <td>6</td>\n",
       "    </tr>\n",
       "    <tr>\n",
       "      <th>2005</th>\n",
       "      <td>5</td>\n",
       "    </tr>\n",
       "    <tr>\n",
       "      <th>2006</th>\n",
       "      <td>7</td>\n",
       "    </tr>\n",
       "    <tr>\n",
       "      <th>2007</th>\n",
       "      <td>6</td>\n",
       "    </tr>\n",
       "    <tr>\n",
       "      <th>2009</th>\n",
       "      <td>7</td>\n",
       "    </tr>\n",
       "    <tr>\n",
       "      <th>2010</th>\n",
       "      <td>6</td>\n",
       "    </tr>\n",
       "    <tr>\n",
       "      <th>Zyvion</th>\n",
       "      <th>2009</th>\n",
       "      <td>5</td>\n",
       "    </tr>\n",
       "    <tr>\n",
       "      <th>Zyyon</th>\n",
       "      <th>2014</th>\n",
       "      <td>6</td>\n",
       "    </tr>\n",
       "    <tr>\n",
       "      <th>Zzyzx</th>\n",
       "      <th>2010</th>\n",
       "      <td>5</td>\n",
       "    </tr>\n",
       "  </tbody>\n",
       "</table>\n",
       "<p>1825433 rows × 1 columns</p>\n",
       "</div>"
      ],
      "text/plain": [
       "                    number\n",
       "sex name      year        \n",
       "F   Aabha     2011       7\n",
       "              2012       5\n",
       "              2014       9\n",
       "    Aabriella 2008       5\n",
       "              2014       5\n",
       "    Aaden     2009       5\n",
       "    Aadhira   2012       6\n",
       "              2013      10\n",
       "              2014      13\n",
       "    Aadhya    2007      10\n",
       "              2008       9\n",
       "              2009      18\n",
       "              2010      19\n",
       "              2011      52\n",
       "              2012     110\n",
       "              2013     172\n",
       "              2014     249\n",
       "    Aadi      2006       5\n",
       "              2012       5\n",
       "              2013       6\n",
       "    Aadison   2009       6\n",
       "              2012       5\n",
       "    Aaditri   2010       5\n",
       "              2012       5\n",
       "              2013       6\n",
       "              2014      10\n",
       "    Aadrika   2013       5\n",
       "              2014       5\n",
       "    Aadvika   2013       6\n",
       "              2014       7\n",
       "...                    ...\n",
       "M   Zyshawn   2008      14\n",
       "              2009       7\n",
       "              2010       9\n",
       "              2011       5\n",
       "              2012      10\n",
       "              2013      13\n",
       "              2014       6\n",
       "    Zyshon    1998       8\n",
       "              2001       6\n",
       "              2005       5\n",
       "    Zyshonne  1998      26\n",
       "              1999      30\n",
       "              2000      17\n",
       "              2001      12\n",
       "              2002       9\n",
       "              2003       7\n",
       "    Zytaevius 2012       5\n",
       "    Zytaveon  2011       8\n",
       "              2014       7\n",
       "    Zytavion  2011       5\n",
       "    Zytavious 2002       6\n",
       "              2004       6\n",
       "              2005       5\n",
       "              2006       7\n",
       "              2007       6\n",
       "              2009       7\n",
       "              2010       6\n",
       "    Zyvion    2009       5\n",
       "    Zyyon     2014       6\n",
       "    Zzyzx     2010       5\n",
       "\n",
       "[1825433 rows x 1 columns]"
      ]
     },
     "execution_count": 14,
     "metadata": {},
     "output_type": "execute_result"
    }
   ],
   "source": [
    "allyears_indexed"
   ]
  },
  {
   "cell_type": "code",
   "execution_count": 15,
   "metadata": {
    "collapsed": false
   },
   "outputs": [
    {
     "data": {
      "text/html": [
       "<div>\n",
       "<table border=\"1\" class=\"dataframe\">\n",
       "  <thead>\n",
       "    <tr style=\"text-align: right;\">\n",
       "      <th></th>\n",
       "      <th>number</th>\n",
       "    </tr>\n",
       "    <tr>\n",
       "      <th>year</th>\n",
       "      <th></th>\n",
       "    </tr>\n",
       "  </thead>\n",
       "  <tbody>\n",
       "    <tr>\n",
       "      <th>1880</th>\n",
       "      <td>7065</td>\n",
       "    </tr>\n",
       "    <tr>\n",
       "      <th>1881</th>\n",
       "      <td>6919</td>\n",
       "    </tr>\n",
       "    <tr>\n",
       "      <th>1882</th>\n",
       "      <td>8148</td>\n",
       "    </tr>\n",
       "    <tr>\n",
       "      <th>1883</th>\n",
       "      <td>8012</td>\n",
       "    </tr>\n",
       "    <tr>\n",
       "      <th>1884</th>\n",
       "      <td>9217</td>\n",
       "    </tr>\n",
       "    <tr>\n",
       "      <th>1885</th>\n",
       "      <td>9128</td>\n",
       "    </tr>\n",
       "    <tr>\n",
       "      <th>1886</th>\n",
       "      <td>9890</td>\n",
       "    </tr>\n",
       "    <tr>\n",
       "      <th>1887</th>\n",
       "      <td>9888</td>\n",
       "    </tr>\n",
       "    <tr>\n",
       "      <th>1888</th>\n",
       "      <td>11754</td>\n",
       "    </tr>\n",
       "    <tr>\n",
       "      <th>1889</th>\n",
       "      <td>11648</td>\n",
       "    </tr>\n",
       "    <tr>\n",
       "      <th>1890</th>\n",
       "      <td>12078</td>\n",
       "    </tr>\n",
       "    <tr>\n",
       "      <th>1891</th>\n",
       "      <td>11703</td>\n",
       "    </tr>\n",
       "    <tr>\n",
       "      <th>1892</th>\n",
       "      <td>13173</td>\n",
       "    </tr>\n",
       "    <tr>\n",
       "      <th>1893</th>\n",
       "      <td>12784</td>\n",
       "    </tr>\n",
       "    <tr>\n",
       "      <th>1894</th>\n",
       "      <td>13151</td>\n",
       "    </tr>\n",
       "    <tr>\n",
       "      <th>1895</th>\n",
       "      <td>13446</td>\n",
       "    </tr>\n",
       "    <tr>\n",
       "      <th>1896</th>\n",
       "      <td>13811</td>\n",
       "    </tr>\n",
       "    <tr>\n",
       "      <th>1897</th>\n",
       "      <td>13413</td>\n",
       "    </tr>\n",
       "    <tr>\n",
       "      <th>1898</th>\n",
       "      <td>14406</td>\n",
       "    </tr>\n",
       "    <tr>\n",
       "      <th>1899</th>\n",
       "      <td>13172</td>\n",
       "    </tr>\n",
       "    <tr>\n",
       "      <th>1900</th>\n",
       "      <td>16707</td>\n",
       "    </tr>\n",
       "    <tr>\n",
       "      <th>1901</th>\n",
       "      <td>13136</td>\n",
       "    </tr>\n",
       "    <tr>\n",
       "      <th>1902</th>\n",
       "      <td>14486</td>\n",
       "    </tr>\n",
       "    <tr>\n",
       "      <th>1903</th>\n",
       "      <td>14275</td>\n",
       "    </tr>\n",
       "    <tr>\n",
       "      <th>1904</th>\n",
       "      <td>14962</td>\n",
       "    </tr>\n",
       "    <tr>\n",
       "      <th>1905</th>\n",
       "      <td>16067</td>\n",
       "    </tr>\n",
       "    <tr>\n",
       "      <th>1906</th>\n",
       "      <td>16370</td>\n",
       "    </tr>\n",
       "    <tr>\n",
       "      <th>1907</th>\n",
       "      <td>17580</td>\n",
       "    </tr>\n",
       "    <tr>\n",
       "      <th>1908</th>\n",
       "      <td>18666</td>\n",
       "    </tr>\n",
       "    <tr>\n",
       "      <th>1909</th>\n",
       "      <td>19259</td>\n",
       "    </tr>\n",
       "    <tr>\n",
       "      <th>...</th>\n",
       "      <td>...</td>\n",
       "    </tr>\n",
       "    <tr>\n",
       "      <th>1985</th>\n",
       "      <td>9239</td>\n",
       "    </tr>\n",
       "    <tr>\n",
       "      <th>1986</th>\n",
       "      <td>8503</td>\n",
       "    </tr>\n",
       "    <tr>\n",
       "      <th>1987</th>\n",
       "      <td>8395</td>\n",
       "    </tr>\n",
       "    <tr>\n",
       "      <th>1988</th>\n",
       "      <td>8508</td>\n",
       "    </tr>\n",
       "    <tr>\n",
       "      <th>1989</th>\n",
       "      <td>8642</td>\n",
       "    </tr>\n",
       "    <tr>\n",
       "      <th>1990</th>\n",
       "      <td>8664</td>\n",
       "    </tr>\n",
       "    <tr>\n",
       "      <th>1991</th>\n",
       "      <td>8756</td>\n",
       "    </tr>\n",
       "    <tr>\n",
       "      <th>1992</th>\n",
       "      <td>8452</td>\n",
       "    </tr>\n",
       "    <tr>\n",
       "      <th>1993</th>\n",
       "      <td>8110</td>\n",
       "    </tr>\n",
       "    <tr>\n",
       "      <th>1994</th>\n",
       "      <td>7746</td>\n",
       "    </tr>\n",
       "    <tr>\n",
       "      <th>1995</th>\n",
       "      <td>7433</td>\n",
       "    </tr>\n",
       "    <tr>\n",
       "      <th>1996</th>\n",
       "      <td>6942</td>\n",
       "    </tr>\n",
       "    <tr>\n",
       "      <th>1997</th>\n",
       "      <td>6626</td>\n",
       "    </tr>\n",
       "    <tr>\n",
       "      <th>1998</th>\n",
       "      <td>6429</td>\n",
       "    </tr>\n",
       "    <tr>\n",
       "      <th>1999</th>\n",
       "      <td>6359</td>\n",
       "    </tr>\n",
       "    <tr>\n",
       "      <th>2000</th>\n",
       "      <td>6182</td>\n",
       "    </tr>\n",
       "    <tr>\n",
       "      <th>2001</th>\n",
       "      <td>5724</td>\n",
       "    </tr>\n",
       "    <tr>\n",
       "      <th>2002</th>\n",
       "      <td>5450</td>\n",
       "    </tr>\n",
       "    <tr>\n",
       "      <th>2003</th>\n",
       "      <td>5009</td>\n",
       "    </tr>\n",
       "    <tr>\n",
       "      <th>2004</th>\n",
       "      <td>4803</td>\n",
       "    </tr>\n",
       "    <tr>\n",
       "      <th>2005</th>\n",
       "      <td>4447</td>\n",
       "    </tr>\n",
       "    <tr>\n",
       "      <th>2006</th>\n",
       "      <td>4081</td>\n",
       "    </tr>\n",
       "    <tr>\n",
       "      <th>2007</th>\n",
       "      <td>3673</td>\n",
       "    </tr>\n",
       "    <tr>\n",
       "      <th>2008</th>\n",
       "      <td>3490</td>\n",
       "    </tr>\n",
       "    <tr>\n",
       "      <th>2009</th>\n",
       "      <td>3154</td>\n",
       "    </tr>\n",
       "    <tr>\n",
       "      <th>2010</th>\n",
       "      <td>2862</td>\n",
       "    </tr>\n",
       "    <tr>\n",
       "      <th>2011</th>\n",
       "      <td>2701</td>\n",
       "    </tr>\n",
       "    <tr>\n",
       "      <th>2012</th>\n",
       "      <td>2565</td>\n",
       "    </tr>\n",
       "    <tr>\n",
       "      <th>2013</th>\n",
       "      <td>2632</td>\n",
       "    </tr>\n",
       "    <tr>\n",
       "      <th>2014</th>\n",
       "      <td>2611</td>\n",
       "    </tr>\n",
       "  </tbody>\n",
       "</table>\n",
       "<p>135 rows × 1 columns</p>\n",
       "</div>"
      ],
      "text/plain": [
       "      number\n",
       "year        \n",
       "1880    7065\n",
       "1881    6919\n",
       "1882    8148\n",
       "1883    8012\n",
       "1884    9217\n",
       "1885    9128\n",
       "1886    9890\n",
       "1887    9888\n",
       "1888   11754\n",
       "1889   11648\n",
       "1890   12078\n",
       "1891   11703\n",
       "1892   13173\n",
       "1893   12784\n",
       "1894   13151\n",
       "1895   13446\n",
       "1896   13811\n",
       "1897   13413\n",
       "1898   14406\n",
       "1899   13172\n",
       "1900   16707\n",
       "1901   13136\n",
       "1902   14486\n",
       "1903   14275\n",
       "1904   14962\n",
       "1905   16067\n",
       "1906   16370\n",
       "1907   17580\n",
       "1908   18666\n",
       "1909   19259\n",
       "...      ...\n",
       "1985    9239\n",
       "1986    8503\n",
       "1987    8395\n",
       "1988    8508\n",
       "1989    8642\n",
       "1990    8664\n",
       "1991    8756\n",
       "1992    8452\n",
       "1993    8110\n",
       "1994    7746\n",
       "1995    7433\n",
       "1996    6942\n",
       "1997    6626\n",
       "1998    6429\n",
       "1999    6359\n",
       "2000    6182\n",
       "2001    5724\n",
       "2002    5450\n",
       "2003    5009\n",
       "2004    4803\n",
       "2005    4447\n",
       "2006    4081\n",
       "2007    3673\n",
       "2008    3490\n",
       "2009    3154\n",
       "2010    2862\n",
       "2011    2701\n",
       "2012    2565\n",
       "2013    2632\n",
       "2014    2611\n",
       "\n",
       "[135 rows x 1 columns]"
      ]
     },
     "execution_count": 15,
     "metadata": {},
     "output_type": "execute_result"
    }
   ],
   "source": [
    "allyears_indexed.loc['F','Mary']"
   ]
  },
  {
   "cell_type": "code",
   "execution_count": 16,
   "metadata": {
    "collapsed": true
   },
   "outputs": [],
   "source": [
    "def plotname(sex,name):\n",
    "    data = allyears_indexed.loc[sex,name]\n",
    "    \n",
    "    pp.plot(data.index,data.values)"
   ]
  },
  {
   "cell_type": "code",
   "execution_count": 17,
   "metadata": {
    "collapsed": false
   },
   "outputs": [
    {
     "data": {
      "text/plain": [
       "<matplotlib.legend.Legend at 0x7f1aa4cd7ed0>"
      ]
     },
     "execution_count": 17,
     "metadata": {},
     "output_type": "execute_result"
    },
    {
     "data": {
      "image/png": "[encoded data removed]",
      "text/plain": [
       "<matplotlib.figure.Figure at 0x7f1aa6c6f650>"
      ]
     },
     "metadata": {},
     "output_type": "display_data"
    }
   ],
   "source": [
    "pp.figure(figsize=(12,2.5))\n",
    "\n",
    "names = ['Michael','John','David','Martin']\n",
    "\n",
    "for name in names:\n",
    "    plotname('M',name)\n",
    "\n",
    "pp.legend(names)"
   ]
  },
  {
   "cell_type": "code",
   "execution_count": 18,
   "metadata": {
    "collapsed": false
   },
   "outputs": [
    {
     "data": {
      "text/plain": [
       "<matplotlib.legend.Legend at 0x7f1aa8fd8bd0>"
      ]
     },
     "execution_count": 18,
     "metadata": {},
     "output_type": "execute_result"
    },
    {
     "data": {
      "image/png": "[encoded data removed]",
      "text/plain": [
       "<matplotlib.figure.Figure at 0x7f1aa8fd8d10>"
      ]
     },
     "metadata": {},
     "output_type": "display_data"
    }
   ],
   "source": [
    "pp.figure(figsize=(12,2.5))\n",
    "\n",
    "names = ['Emily','Anna','Claire','Elizabeth']\n",
    "\n",
    "for name in names:\n",
    "    plotname('F',name)\n",
    "\n",
    "pp.legend(names)"
   ]
  },
  {
   "cell_type": "code",
   "execution_count": 19,
   "metadata": {
    "collapsed": false
   },
   "outputs": [
    {
     "data": {
      "text/plain": [
       "<matplotlib.legend.Legend at 0x7f1aa6c3ccd0>"
      ]
     },
     "execution_count": 19,
     "metadata": {},
     "output_type": "execute_result"
    },
    {
     "data": {
      "image/png": "[encoded data removed]",
      "text/plain": [
       "<matplotlib.figure.Figure at 0x7f1aa6bec150>"
      ]
     },
     "metadata": {},
     "output_type": "display_data"
    }
   ],
   "source": [
    "pp.figure(figsize=(12,2.5))\n",
    "\n",
    "names = ['Chiara','Claire','Clare','Clara','Ciara']\n",
    "\n",
    "for name in names:\n",
    "    plotname('F',name)\n",
    "\n",
    "pp.legend(names)"
   ]
  },
  {
   "cell_type": "code",
   "execution_count": 20,
   "metadata": {
    "collapsed": false
   },
   "outputs": [
    {
     "data": {
      "text/html": [
       "<div>\n",
       "<table border=\"1\" class=\"dataframe\">\n",
       "  <thead>\n",
       "    <tr style=\"text-align: right;\">\n",
       "      <th></th>\n",
       "      <th></th>\n",
       "      <th>number</th>\n",
       "    </tr>\n",
       "    <tr>\n",
       "      <th>name</th>\n",
       "      <th>year</th>\n",
       "      <th></th>\n",
       "    </tr>\n",
       "  </thead>\n",
       "  <tbody>\n",
       "    <tr>\n",
       "      <th rowspan=\"5\" valign=\"top\">Chiara</th>\n",
       "      <th>1959</th>\n",
       "      <td>9</td>\n",
       "    </tr>\n",
       "    <tr>\n",
       "      <th>1960</th>\n",
       "      <td>5</td>\n",
       "    </tr>\n",
       "    <tr>\n",
       "      <th>1962</th>\n",
       "      <td>8</td>\n",
       "    </tr>\n",
       "    <tr>\n",
       "      <th>1963</th>\n",
       "      <td>8</td>\n",
       "    </tr>\n",
       "    <tr>\n",
       "      <th>1964</th>\n",
       "      <td>12</td>\n",
       "    </tr>\n",
       "  </tbody>\n",
       "</table>\n",
       "</div>"
      ],
      "text/plain": [
       "             number\n",
       "name   year        \n",
       "Chiara 1959       9\n",
       "       1960       5\n",
       "       1962       8\n",
       "       1963       8\n",
       "       1964      12"
      ]
     },
     "execution_count": 20,
     "metadata": {},
     "output_type": "execute_result"
    }
   ],
   "source": [
    "allyears_indexed.loc['F'].loc[names].head()"
   ]
  },
  {
   "cell_type": "code",
   "execution_count": 21,
   "metadata": {
    "collapsed": false
   },
   "outputs": [
    {
     "data": {
      "text/html": [
       "<div>\n",
       "<table border=\"1\" class=\"dataframe\">\n",
       "  <thead>\n",
       "    <tr>\n",
       "      <th></th>\n",
       "      <th colspan=\"5\" halign=\"left\">number</th>\n",
       "    </tr>\n",
       "    <tr>\n",
       "      <th>name</th>\n",
       "      <th>Chiara</th>\n",
       "      <th>Ciara</th>\n",
       "      <th>Claire</th>\n",
       "      <th>Clara</th>\n",
       "      <th>Clare</th>\n",
       "    </tr>\n",
       "    <tr>\n",
       "      <th>year</th>\n",
       "      <th></th>\n",
       "      <th></th>\n",
       "      <th></th>\n",
       "      <th></th>\n",
       "      <th></th>\n",
       "    </tr>\n",
       "  </thead>\n",
       "  <tbody>\n",
       "    <tr>\n",
       "      <th>1880</th>\n",
       "      <td>NaN</td>\n",
       "      <td>NaN</td>\n",
       "      <td>21</td>\n",
       "      <td>1226</td>\n",
       "      <td>15</td>\n",
       "    </tr>\n",
       "    <tr>\n",
       "      <th>1881</th>\n",
       "      <td>NaN</td>\n",
       "      <td>NaN</td>\n",
       "      <td>23</td>\n",
       "      <td>1242</td>\n",
       "      <td>20</td>\n",
       "    </tr>\n",
       "    <tr>\n",
       "      <th>1882</th>\n",
       "      <td>NaN</td>\n",
       "      <td>NaN</td>\n",
       "      <td>30</td>\n",
       "      <td>1490</td>\n",
       "      <td>21</td>\n",
       "    </tr>\n",
       "    <tr>\n",
       "      <th>1883</th>\n",
       "      <td>NaN</td>\n",
       "      <td>NaN</td>\n",
       "      <td>38</td>\n",
       "      <td>1548</td>\n",
       "      <td>22</td>\n",
       "    </tr>\n",
       "    <tr>\n",
       "      <th>1884</th>\n",
       "      <td>NaN</td>\n",
       "      <td>NaN</td>\n",
       "      <td>33</td>\n",
       "      <td>1852</td>\n",
       "      <td>38</td>\n",
       "    </tr>\n",
       "  </tbody>\n",
       "</table>\n",
       "</div>"
      ],
      "text/plain": [
       "     number                         \n",
       "name Chiara Ciara Claire Clara Clare\n",
       "year                                \n",
       "1880    NaN   NaN     21  1226    15\n",
       "1881    NaN   NaN     23  1242    20\n",
       "1882    NaN   NaN     30  1490    21\n",
       "1883    NaN   NaN     38  1548    22\n",
       "1884    NaN   NaN     33  1852    38"
      ]
     },
     "execution_count": 21,
     "metadata": {},
     "output_type": "execute_result"
    }
   ],
   "source": [
    "allyears_indexed.loc['F'].loc[names].unstack(level=0).head()"
   ]
  },
  {
   "cell_type": "code",
   "execution_count": 22,
   "metadata": {
    "collapsed": false
   },
   "outputs": [
    {
     "data": {
      "text/html": [
       "<div>\n",
       "<table border=\"1\" class=\"dataframe\">\n",
       "  <thead>\n",
       "    <tr>\n",
       "      <th></th>\n",
       "      <th colspan=\"5\" halign=\"left\">number</th>\n",
       "    </tr>\n",
       "    <tr>\n",
       "      <th>name</th>\n",
       "      <th>Chiara</th>\n",
       "      <th>Ciara</th>\n",
       "      <th>Claire</th>\n",
       "      <th>Clara</th>\n",
       "      <th>Clare</th>\n",
       "    </tr>\n",
       "    <tr>\n",
       "      <th>year</th>\n",
       "      <th></th>\n",
       "      <th></th>\n",
       "      <th></th>\n",
       "      <th></th>\n",
       "      <th></th>\n",
       "    </tr>\n",
       "  </thead>\n",
       "  <tbody>\n",
       "    <tr>\n",
       "      <th>1880</th>\n",
       "      <td>0</td>\n",
       "      <td>0</td>\n",
       "      <td>21</td>\n",
       "      <td>1226</td>\n",
       "      <td>15</td>\n",
       "    </tr>\n",
       "    <tr>\n",
       "      <th>1881</th>\n",
       "      <td>0</td>\n",
       "      <td>0</td>\n",
       "      <td>23</td>\n",
       "      <td>1242</td>\n",
       "      <td>20</td>\n",
       "    </tr>\n",
       "    <tr>\n",
       "      <th>1882</th>\n",
       "      <td>0</td>\n",
       "      <td>0</td>\n",
       "      <td>30</td>\n",
       "      <td>1490</td>\n",
       "      <td>21</td>\n",
       "    </tr>\n",
       "    <tr>\n",
       "      <th>1883</th>\n",
       "      <td>0</td>\n",
       "      <td>0</td>\n",
       "      <td>38</td>\n",
       "      <td>1548</td>\n",
       "      <td>22</td>\n",
       "    </tr>\n",
       "    <tr>\n",
       "      <th>1884</th>\n",
       "      <td>0</td>\n",
       "      <td>0</td>\n",
       "      <td>33</td>\n",
       "      <td>1852</td>\n",
       "      <td>38</td>\n",
       "    </tr>\n",
       "  </tbody>\n",
       "</table>\n",
       "</div>"
      ],
      "text/plain": [
       "     number                         \n",
       "name Chiara Ciara Claire Clara Clare\n",
       "year                                \n",
       "1880      0     0     21  1226    15\n",
       "1881      0     0     23  1242    20\n",
       "1882      0     0     30  1490    21\n",
       "1883      0     0     38  1548    22\n",
       "1884      0     0     33  1852    38"
      ]
     },
     "execution_count": 22,
     "metadata": {},
     "output_type": "execute_result"
    }
   ],
   "source": [
    "allyears_indexed.loc['F'].loc[names].unstack(level=0).fillna(0).head()"
   ]
  },
  {
   "cell_type": "code",
   "execution_count": 23,
   "metadata": {
    "collapsed": true
   },
   "outputs": [],
   "source": [
    "variants = allyears_indexed.loc['F'].loc[names].unstack(level=0).fillna(0)"
   ]
  },
  {
   "cell_type": "code",
   "execution_count": 24,
   "metadata": {
    "collapsed": false
   },
   "outputs": [
    {
     "data": {
      "text/plain": [
       "[<matplotlib.collections.PolyCollection at 0x7f1aa6a9dfd0>,\n",
       " <matplotlib.collections.PolyCollection at 0x7f1aa6a2b790>,\n",
       " <matplotlib.collections.PolyCollection at 0x7f1aa6a2bd50>,\n",
       " <matplotlib.collections.PolyCollection at 0x7f1aa6a2b510>,\n",
       " <matplotlib.collections.PolyCollection at 0x7f1aa6a3d890>]"
      ]
     },
     "execution_count": 24,
     "metadata": {},
     "output_type": "execute_result"
    },
    {
     "name": "stderr",
     "output_type": "stream",
     "text": [
      "/usr/lib/pymodules/python2.7/matplotlib/collections.py:548: FutureWarning: elementwise comparison failed; returning scalar instead, but in the future will perform elementwise comparison\n",
      "  if self._edgecolors == 'face':\n"
     ]
    },
    {
     "data": {
      "image/png": "[encoded data removed]",
      "text/plain": [
       "<matplotlib.figure.Figure at 0x7f1aa6bd5e10>"
      ]
     },
     "metadata": {},
     "output_type": "display_data"
    }
   ],
   "source": [
    "pp.figure(figsize=(12,2.5))\n",
    "\n",
    "pp.stackplot(variants.index,variants.values.T,label=names)"
   ]
  },
  {
   "cell_type": "code",
   "execution_count": 25,
   "metadata": {
    "collapsed": false
   },
   "outputs": [
    {
     "data": {
      "image/png": "[encoded data removed]",
      "text/plain": [
       "<matplotlib.figure.Figure at 0x7f1aa6a00150>"
      ]
     },
     "metadata": {},
     "output_type": "display_data"
    }
   ],
   "source": [
    "pp.figure(figsize=(12,2.5))\n",
    "\n",
    "palette = seaborn.color_palette()\n",
    "pp.stackplot(variants.index,variants.values.T,colors=palette)\n",
    "\n",
    "for i,name in enumerate(names):\n",
    "    pp.text(1882,5000 + 800*i,name,color=palette[i])"
   ]
  },
  {
   "cell_type": "code",
   "execution_count": 26,
   "metadata": {
    "collapsed": false
   },
   "outputs": [
    {
     "name": "stderr",
     "output_type": "stream",
     "text": [
      "/usr/local/lib/python2.7/dist-packages/ipykernel/__main__.py:1: FutureWarning: sort(columns=....) is deprecated, use sort_values(by=.....)\n",
      "  if __name__ == '__main__':\n"
     ]
    },
    {
     "data": {
      "text/html": [
       "<div>\n",
       "<table border=\"1\" class=\"dataframe\">\n",
       "  <thead>\n",
       "    <tr style=\"text-align: right;\">\n",
       "      <th></th>\n",
       "      <th></th>\n",
       "      <th></th>\n",
       "      <th>number</th>\n",
       "    </tr>\n",
       "    <tr>\n",
       "      <th>sex</th>\n",
       "      <th>name</th>\n",
       "      <th>year</th>\n",
       "      <th></th>\n",
       "    </tr>\n",
       "  </thead>\n",
       "  <tbody>\n",
       "    <tr>\n",
       "      <th rowspan=\"5\" valign=\"top\">M</th>\n",
       "      <th>Jacob</th>\n",
       "      <th>2008</th>\n",
       "      <td>22568</td>\n",
       "    </tr>\n",
       "    <tr>\n",
       "      <th>Michael</th>\n",
       "      <th>2008</th>\n",
       "      <td>20590</td>\n",
       "    </tr>\n",
       "    <tr>\n",
       "      <th>Ethan</th>\n",
       "      <th>2008</th>\n",
       "      <td>20196</td>\n",
       "    </tr>\n",
       "    <tr>\n",
       "      <th>Joshua</th>\n",
       "      <th>2008</th>\n",
       "      <td>19186</td>\n",
       "    </tr>\n",
       "    <tr>\n",
       "      <th>Daniel</th>\n",
       "      <th>2008</th>\n",
       "      <td>18985</td>\n",
       "    </tr>\n",
       "  </tbody>\n",
       "</table>\n",
       "</div>"
      ],
      "text/plain": [
       "                  number\n",
       "sex name    year        \n",
       "M   Jacob   2008   22568\n",
       "    Michael 2008   20590\n",
       "    Ethan   2008   20196\n",
       "    Joshua  2008   19186\n",
       "    Daniel  2008   18985"
      ]
     },
     "execution_count": 26,
     "metadata": {},
     "output_type": "execute_result"
    }
   ],
   "source": [
    "allyears_indexed.loc['M',:,2008].sort('number',ascending=False).head()"
   ]
  },
  {
   "cell_type": "code",
   "execution_count": 27,
   "metadata": {
    "collapsed": false
   },
   "outputs": [
    {
     "name": "stderr",
     "output_type": "stream",
     "text": [
      "/usr/local/lib/python2.7/dist-packages/ipykernel/__main__.py:1: FutureWarning: sort(columns=....) is deprecated, use sort_values(by=.....)\n",
      "  if __name__ == '__main__':\n"
     ]
    }
   ],
   "source": [
    "pop2008 = allyears_indexed.loc['M',:,2008].sort('number',ascending=False).head()"
   ]
  },
  {
   "cell_type": "code",
   "execution_count": 28,
   "metadata": {
    "collapsed": false
   },
   "outputs": [
    {
     "data": {
      "text/html": [
       "<div>\n",
       "<table border=\"1\" class=\"dataframe\">\n",
       "  <thead>\n",
       "    <tr style=\"text-align: right;\">\n",
       "      <th></th>\n",
       "      <th>name</th>\n",
       "    </tr>\n",
       "  </thead>\n",
       "  <tbody>\n",
       "    <tr>\n",
       "      <th>0</th>\n",
       "      <td>Jacob</td>\n",
       "    </tr>\n",
       "    <tr>\n",
       "      <th>1</th>\n",
       "      <td>Michael</td>\n",
       "    </tr>\n",
       "    <tr>\n",
       "      <th>2</th>\n",
       "      <td>Ethan</td>\n",
       "    </tr>\n",
       "    <tr>\n",
       "      <th>3</th>\n",
       "      <td>Joshua</td>\n",
       "    </tr>\n",
       "    <tr>\n",
       "      <th>4</th>\n",
       "      <td>Daniel</td>\n",
       "    </tr>\n",
       "  </tbody>\n",
       "</table>\n",
       "</div>"
      ],
      "text/plain": [
       "      name\n",
       "0    Jacob\n",
       "1  Michael\n",
       "2    Ethan\n",
       "3   Joshua\n",
       "4   Daniel"
      ]
     },
     "execution_count": 28,
     "metadata": {},
     "output_type": "execute_result"
    }
   ],
   "source": [
    "pop2008.reset_index().drop(['sex','year','number'],axis=1).head()"
   ]
  },
  {
   "cell_type": "code",
   "execution_count": 29,
   "metadata": {
    "collapsed": true
   },
   "outputs": [],
   "source": [
    "def topten(sex,year):\n",
    "    simple = allyears_indexed.loc[sex,:,year].sort('number',ascending=False).reset_index()\n",
    "    simple = simple.drop(['sex','year','number'],axis=1).head(10)\n",
    "    \n",
    "    simple.columns = [year]\n",
    "    simple.index = simple.index + 1\n",
    "    \n",
    "    return simple"
   ]
  },
  {
   "cell_type": "code",
   "execution_count": 30,
   "metadata": {
    "collapsed": false
   },
   "outputs": [
    {
     "name": "stderr",
     "output_type": "stream",
     "text": [
      "/usr/local/lib/python2.7/dist-packages/ipykernel/__main__.py:2: FutureWarning: sort(columns=....) is deprecated, use sort_values(by=.....)\n",
      "  from ipykernel import kernelapp as app\n"
     ]
    },
    {
     "data": {
      "text/html": [
       "<div>\n",
       "<table border=\"1\" class=\"dataframe\">\n",
       "  <thead>\n",
       "    <tr style=\"text-align: right;\">\n",
       "      <th></th>\n",
       "      <th>2009</th>\n",
       "    </tr>\n",
       "  </thead>\n",
       "  <tbody>\n",
       "    <tr>\n",
       "      <th>1</th>\n",
       "      <td>Jacob</td>\n",
       "    </tr>\n",
       "    <tr>\n",
       "      <th>2</th>\n",
       "      <td>Ethan</td>\n",
       "    </tr>\n",
       "    <tr>\n",
       "      <th>3</th>\n",
       "      <td>Michael</td>\n",
       "    </tr>\n",
       "    <tr>\n",
       "      <th>4</th>\n",
       "      <td>Alexander</td>\n",
       "    </tr>\n",
       "    <tr>\n",
       "      <th>5</th>\n",
       "      <td>William</td>\n",
       "    </tr>\n",
       "    <tr>\n",
       "      <th>6</th>\n",
       "      <td>Joshua</td>\n",
       "    </tr>\n",
       "    <tr>\n",
       "      <th>7</th>\n",
       "      <td>Daniel</td>\n",
       "    </tr>\n",
       "    <tr>\n",
       "      <th>8</th>\n",
       "      <td>Jayden</td>\n",
       "    </tr>\n",
       "    <tr>\n",
       "      <th>9</th>\n",
       "      <td>Noah</td>\n",
       "    </tr>\n",
       "    <tr>\n",
       "      <th>10</th>\n",
       "      <td>Christopher</td>\n",
       "    </tr>\n",
       "  </tbody>\n",
       "</table>\n",
       "</div>"
      ],
      "text/plain": [
       "           2009\n",
       "1         Jacob\n",
       "2         Ethan\n",
       "3       Michael\n",
       "4     Alexander\n",
       "5       William\n",
       "6        Joshua\n",
       "7        Daniel\n",
       "8        Jayden\n",
       "9          Noah\n",
       "10  Christopher"
      ]
     },
     "execution_count": 30,
     "metadata": {},
     "output_type": "execute_result"
    }
   ],
   "source": [
    "topten('M',2009)"
   ]
  },
  {
   "cell_type": "code",
   "execution_count": 31,
   "metadata": {
    "collapsed": true
   },
   "outputs": [],
   "source": [
    "def toptens(sex,year0,year1):\n",
    "    years = [topten(sex,year) for year in range(year0,year1+1)]\n",
    "    \n",
    "    return years[0].join(years[1:])"
   ]
  },
  {
   "cell_type": "code",
   "execution_count": 32,
   "metadata": {
    "collapsed": false
   },
   "outputs": [
    {
     "name": "stderr",
     "output_type": "stream",
     "text": [
      "/usr/local/lib/python2.7/dist-packages/ipykernel/__main__.py:2: FutureWarning: sort(columns=....) is deprecated, use sort_values(by=.....)\n",
      "  from ipykernel import kernelapp as app\n"
     ]
    },
    {
     "data": {
      "text/html": [
       "<div>\n",
       "<table border=\"1\" class=\"dataframe\">\n",
       "  <thead>\n",
       "    <tr style=\"text-align: right;\">\n",
       "      <th></th>\n",
       "      <th>2000</th>\n",
       "      <th>2001</th>\n",
       "      <th>2002</th>\n",
       "      <th>2003</th>\n",
       "      <th>2004</th>\n",
       "      <th>2005</th>\n",
       "      <th>2006</th>\n",
       "      <th>2007</th>\n",
       "      <th>2008</th>\n",
       "      <th>2009</th>\n",
       "      <th>2010</th>\n",
       "    </tr>\n",
       "  </thead>\n",
       "  <tbody>\n",
       "    <tr>\n",
       "      <th>1</th>\n",
       "      <td>Jacob</td>\n",
       "      <td>Jacob</td>\n",
       "      <td>Jacob</td>\n",
       "      <td>Jacob</td>\n",
       "      <td>Jacob</td>\n",
       "      <td>Jacob</td>\n",
       "      <td>Jacob</td>\n",
       "      <td>Jacob</td>\n",
       "      <td>Jacob</td>\n",
       "      <td>Jacob</td>\n",
       "      <td>Jacob</td>\n",
       "    </tr>\n",
       "    <tr>\n",
       "      <th>2</th>\n",
       "      <td>Michael</td>\n",
       "      <td>Michael</td>\n",
       "      <td>Michael</td>\n",
       "      <td>Michael</td>\n",
       "      <td>Michael</td>\n",
       "      <td>Michael</td>\n",
       "      <td>Michael</td>\n",
       "      <td>Michael</td>\n",
       "      <td>Michael</td>\n",
       "      <td>Ethan</td>\n",
       "      <td>Ethan</td>\n",
       "    </tr>\n",
       "    <tr>\n",
       "      <th>3</th>\n",
       "      <td>Matthew</td>\n",
       "      <td>Matthew</td>\n",
       "      <td>Joshua</td>\n",
       "      <td>Joshua</td>\n",
       "      <td>Joshua</td>\n",
       "      <td>Joshua</td>\n",
       "      <td>Joshua</td>\n",
       "      <td>Ethan</td>\n",
       "      <td>Ethan</td>\n",
       "      <td>Michael</td>\n",
       "      <td>Michael</td>\n",
       "    </tr>\n",
       "    <tr>\n",
       "      <th>4</th>\n",
       "      <td>Joshua</td>\n",
       "      <td>Joshua</td>\n",
       "      <td>Matthew</td>\n",
       "      <td>Matthew</td>\n",
       "      <td>Matthew</td>\n",
       "      <td>Matthew</td>\n",
       "      <td>Ethan</td>\n",
       "      <td>Joshua</td>\n",
       "      <td>Joshua</td>\n",
       "      <td>Alexander</td>\n",
       "      <td>Jayden</td>\n",
       "    </tr>\n",
       "    <tr>\n",
       "      <th>5</th>\n",
       "      <td>Christopher</td>\n",
       "      <td>Christopher</td>\n",
       "      <td>Ethan</td>\n",
       "      <td>Andrew</td>\n",
       "      <td>Ethan</td>\n",
       "      <td>Ethan</td>\n",
       "      <td>Matthew</td>\n",
       "      <td>Daniel</td>\n",
       "      <td>Daniel</td>\n",
       "      <td>William</td>\n",
       "      <td>William</td>\n",
       "    </tr>\n",
       "    <tr>\n",
       "      <th>6</th>\n",
       "      <td>Nicholas</td>\n",
       "      <td>Nicholas</td>\n",
       "      <td>Andrew</td>\n",
       "      <td>Ethan</td>\n",
       "      <td>Andrew</td>\n",
       "      <td>Andrew</td>\n",
       "      <td>Daniel</td>\n",
       "      <td>Christopher</td>\n",
       "      <td>Alexander</td>\n",
       "      <td>Joshua</td>\n",
       "      <td>Alexander</td>\n",
       "    </tr>\n",
       "    <tr>\n",
       "      <th>7</th>\n",
       "      <td>Andrew</td>\n",
       "      <td>Andrew</td>\n",
       "      <td>Joseph</td>\n",
       "      <td>Joseph</td>\n",
       "      <td>Daniel</td>\n",
       "      <td>Daniel</td>\n",
       "      <td>Andrew</td>\n",
       "      <td>Anthony</td>\n",
       "      <td>William</td>\n",
       "      <td>Daniel</td>\n",
       "      <td>Noah</td>\n",
       "    </tr>\n",
       "    <tr>\n",
       "      <th>8</th>\n",
       "      <td>Joseph</td>\n",
       "      <td>Joseph</td>\n",
       "      <td>Christopher</td>\n",
       "      <td>Daniel</td>\n",
       "      <td>William</td>\n",
       "      <td>Anthony</td>\n",
       "      <td>Christopher</td>\n",
       "      <td>William</td>\n",
       "      <td>Anthony</td>\n",
       "      <td>Jayden</td>\n",
       "      <td>Daniel</td>\n",
       "    </tr>\n",
       "    <tr>\n",
       "      <th>9</th>\n",
       "      <td>Daniel</td>\n",
       "      <td>Daniel</td>\n",
       "      <td>Nicholas</td>\n",
       "      <td>Christopher</td>\n",
       "      <td>Joseph</td>\n",
       "      <td>Joseph</td>\n",
       "      <td>Anthony</td>\n",
       "      <td>Matthew</td>\n",
       "      <td>Christopher</td>\n",
       "      <td>Noah</td>\n",
       "      <td>Aiden</td>\n",
       "    </tr>\n",
       "    <tr>\n",
       "      <th>10</th>\n",
       "      <td>Tyler</td>\n",
       "      <td>William</td>\n",
       "      <td>Daniel</td>\n",
       "      <td>Anthony</td>\n",
       "      <td>Christopher</td>\n",
       "      <td>Christopher</td>\n",
       "      <td>William</td>\n",
       "      <td>Andrew</td>\n",
       "      <td>Matthew</td>\n",
       "      <td>Christopher</td>\n",
       "      <td>Anthony</td>\n",
       "    </tr>\n",
       "  </tbody>\n",
       "</table>\n",
       "</div>"
      ],
      "text/plain": [
       "           2000         2001         2002         2003         2004  \\\n",
       "1         Jacob        Jacob        Jacob        Jacob        Jacob   \n",
       "2       Michael      Michael      Michael      Michael      Michael   \n",
       "3       Matthew      Matthew       Joshua       Joshua       Joshua   \n",
       "4        Joshua       Joshua      Matthew      Matthew      Matthew   \n",
       "5   Christopher  Christopher        Ethan       Andrew        Ethan   \n",
       "6      Nicholas     Nicholas       Andrew        Ethan       Andrew   \n",
       "7        Andrew       Andrew       Joseph       Joseph       Daniel   \n",
       "8        Joseph       Joseph  Christopher       Daniel      William   \n",
       "9        Daniel       Daniel     Nicholas  Christopher       Joseph   \n",
       "10        Tyler      William       Daniel      Anthony  Christopher   \n",
       "\n",
       "           2005         2006         2007         2008         2009       2010  \n",
       "1         Jacob        Jacob        Jacob        Jacob        Jacob      Jacob  \n",
       "2       Michael      Michael      Michael      Michael        Ethan      Ethan  \n",
       "3        Joshua       Joshua        Ethan        Ethan      Michael    Michael  \n",
       "4       Matthew        Ethan       Joshua       Joshua    Alexander     Jayden  \n",
       "5         Ethan      Matthew       Daniel       Daniel      William    William  \n",
       "6        Andrew       Daniel  Christopher    Alexander       Joshua  Alexander  \n",
       "7        Daniel       Andrew      Anthony      William       Daniel       Noah  \n",
       "8       Anthony  Christopher      William      Anthony       Jayden     Daniel  \n",
       "9        Joseph      Anthony      Matthew  Christopher         Noah      Aiden  \n",
       "10  Christopher      William       Andrew      Matthew  Christopher    Anthony  "
      ]
     },
     "execution_count": 32,
     "metadata": {},
     "output_type": "execute_result"
    }
   ],
   "source": [
    "toptens('M',2000,2010)"
   ]
  },
  {
   "cell_type": "code",
   "execution_count": 33,
   "metadata": {
    "collapsed": false
   },
   "outputs": [
    {
     "name": "stderr",
     "output_type": "stream",
     "text": [
      "/usr/local/lib/python2.7/dist-packages/ipykernel/__main__.py:2: FutureWarning: sort(columns=....) is deprecated, use sort_values(by=.....)\n",
      "  from ipykernel import kernelapp as app\n"
     ]
    },
    {
     "data": {
      "text/html": [
       "<div>\n",
       "<table border=\"1\" class=\"dataframe\">\n",
       "  <thead>\n",
       "    <tr style=\"text-align: right;\">\n",
       "      <th></th>\n",
       "      <th>1985</th>\n",
       "      <th>1986</th>\n",
       "      <th>1987</th>\n",
       "      <th>1988</th>\n",
       "      <th>1989</th>\n",
       "      <th>1990</th>\n",
       "      <th>1991</th>\n",
       "      <th>1992</th>\n",
       "      <th>1993</th>\n",
       "      <th>1994</th>\n",
       "      <th>1995</th>\n",
       "    </tr>\n",
       "  </thead>\n",
       "  <tbody>\n",
       "    <tr>\n",
       "      <th>1</th>\n",
       "      <td>Jessica</td>\n",
       "      <td>Jessica</td>\n",
       "      <td>Jessica</td>\n",
       "      <td>Jessica</td>\n",
       "      <td>Jessica</td>\n",
       "      <td>Jessica</td>\n",
       "      <td>Ashley</td>\n",
       "      <td>Ashley</td>\n",
       "      <td>Jessica</td>\n",
       "      <td>Jessica</td>\n",
       "      <td>Jessica</td>\n",
       "    </tr>\n",
       "    <tr>\n",
       "      <th>2</th>\n",
       "      <td>Ashley</td>\n",
       "      <td>Ashley</td>\n",
       "      <td>Ashley</td>\n",
       "      <td>Ashley</td>\n",
       "      <td>Ashley</td>\n",
       "      <td>Ashley</td>\n",
       "      <td>Jessica</td>\n",
       "      <td>Jessica</td>\n",
       "      <td>Ashley</td>\n",
       "      <td>Ashley</td>\n",
       "      <td>Ashley</td>\n",
       "    </tr>\n",
       "    <tr>\n",
       "      <th>3</th>\n",
       "      <td>Jennifer</td>\n",
       "      <td>Amanda</td>\n",
       "      <td>Amanda</td>\n",
       "      <td>Amanda</td>\n",
       "      <td>Brittany</td>\n",
       "      <td>Brittany</td>\n",
       "      <td>Brittany</td>\n",
       "      <td>Amanda</td>\n",
       "      <td>Sarah</td>\n",
       "      <td>Emily</td>\n",
       "      <td>Emily</td>\n",
       "    </tr>\n",
       "    <tr>\n",
       "      <th>4</th>\n",
       "      <td>Amanda</td>\n",
       "      <td>Jennifer</td>\n",
       "      <td>Jennifer</td>\n",
       "      <td>Sarah</td>\n",
       "      <td>Amanda</td>\n",
       "      <td>Amanda</td>\n",
       "      <td>Amanda</td>\n",
       "      <td>Brittany</td>\n",
       "      <td>Samantha</td>\n",
       "      <td>Samantha</td>\n",
       "      <td>Samantha</td>\n",
       "    </tr>\n",
       "    <tr>\n",
       "      <th>5</th>\n",
       "      <td>Sarah</td>\n",
       "      <td>Sarah</td>\n",
       "      <td>Sarah</td>\n",
       "      <td>Jennifer</td>\n",
       "      <td>Sarah</td>\n",
       "      <td>Samantha</td>\n",
       "      <td>Samantha</td>\n",
       "      <td>Sarah</td>\n",
       "      <td>Emily</td>\n",
       "      <td>Sarah</td>\n",
       "      <td>Sarah</td>\n",
       "    </tr>\n",
       "    <tr>\n",
       "      <th>6</th>\n",
       "      <td>Stephanie</td>\n",
       "      <td>Stephanie</td>\n",
       "      <td>Stephanie</td>\n",
       "      <td>Brittany</td>\n",
       "      <td>Samantha</td>\n",
       "      <td>Sarah</td>\n",
       "      <td>Sarah</td>\n",
       "      <td>Samantha</td>\n",
       "      <td>Brittany</td>\n",
       "      <td>Taylor</td>\n",
       "      <td>Taylor</td>\n",
       "    </tr>\n",
       "    <tr>\n",
       "      <th>7</th>\n",
       "      <td>Nicole</td>\n",
       "      <td>Nicole</td>\n",
       "      <td>Brittany</td>\n",
       "      <td>Stephanie</td>\n",
       "      <td>Jennifer</td>\n",
       "      <td>Stephanie</td>\n",
       "      <td>Stephanie</td>\n",
       "      <td>Emily</td>\n",
       "      <td>Taylor</td>\n",
       "      <td>Brittany</td>\n",
       "      <td>Hannah</td>\n",
       "    </tr>\n",
       "    <tr>\n",
       "      <th>8</th>\n",
       "      <td>Heather</td>\n",
       "      <td>Brittany</td>\n",
       "      <td>Nicole</td>\n",
       "      <td>Samantha</td>\n",
       "      <td>Stephanie</td>\n",
       "      <td>Jennifer</td>\n",
       "      <td>Jennifer</td>\n",
       "      <td>Stephanie</td>\n",
       "      <td>Amanda</td>\n",
       "      <td>Amanda</td>\n",
       "      <td>Brittany</td>\n",
       "    </tr>\n",
       "    <tr>\n",
       "      <th>9</th>\n",
       "      <td>Elizabeth</td>\n",
       "      <td>Heather</td>\n",
       "      <td>Heather</td>\n",
       "      <td>Nicole</td>\n",
       "      <td>Lauren</td>\n",
       "      <td>Elizabeth</td>\n",
       "      <td>Elizabeth</td>\n",
       "      <td>Elizabeth</td>\n",
       "      <td>Elizabeth</td>\n",
       "      <td>Elizabeth</td>\n",
       "      <td>Amanda</td>\n",
       "    </tr>\n",
       "    <tr>\n",
       "      <th>10</th>\n",
       "      <td>Megan</td>\n",
       "      <td>Elizabeth</td>\n",
       "      <td>Elizabeth</td>\n",
       "      <td>Elizabeth</td>\n",
       "      <td>Elizabeth</td>\n",
       "      <td>Lauren</td>\n",
       "      <td>Emily</td>\n",
       "      <td>Megan</td>\n",
       "      <td>Stephanie</td>\n",
       "      <td>Megan</td>\n",
       "      <td>Elizabeth</td>\n",
       "    </tr>\n",
       "  </tbody>\n",
       "</table>\n",
       "</div>"
      ],
      "text/plain": [
       "         1985       1986       1987       1988       1989       1990  \\\n",
       "1     Jessica    Jessica    Jessica    Jessica    Jessica    Jessica   \n",
       "2      Ashley     Ashley     Ashley     Ashley     Ashley     Ashley   \n",
       "3    Jennifer     Amanda     Amanda     Amanda   Brittany   Brittany   \n",
       "4      Amanda   Jennifer   Jennifer      Sarah     Amanda     Amanda   \n",
       "5       Sarah      Sarah      Sarah   Jennifer      Sarah   Samantha   \n",
       "6   Stephanie  Stephanie  Stephanie   Brittany   Samantha      Sarah   \n",
       "7      Nicole     Nicole   Brittany  Stephanie   Jennifer  Stephanie   \n",
       "8     Heather   Brittany     Nicole   Samantha  Stephanie   Jennifer   \n",
       "9   Elizabeth    Heather    Heather     Nicole     Lauren  Elizabeth   \n",
       "10      Megan  Elizabeth  Elizabeth  Elizabeth  Elizabeth     Lauren   \n",
       "\n",
       "         1991       1992       1993       1994       1995  \n",
       "1      Ashley     Ashley    Jessica    Jessica    Jessica  \n",
       "2     Jessica    Jessica     Ashley     Ashley     Ashley  \n",
       "3    Brittany     Amanda      Sarah      Emily      Emily  \n",
       "4      Amanda   Brittany   Samantha   Samantha   Samantha  \n",
       "5    Samantha      Sarah      Emily      Sarah      Sarah  \n",
       "6       Sarah   Samantha   Brittany     Taylor     Taylor  \n",
       "7   Stephanie      Emily     Taylor   Brittany     Hannah  \n",
       "8    Jennifer  Stephanie     Amanda     Amanda   Brittany  \n",
       "9   Elizabeth  Elizabeth  Elizabeth  Elizabeth     Amanda  \n",
       "10      Emily      Megan  Stephanie      Megan  Elizabeth  "
      ]
     },
     "execution_count": 33,
     "metadata": {},
     "output_type": "execute_result"
    }
   ],
   "source": [
    "toptens('F',1985,1995)"
   ]
  },
  {
   "cell_type": "code",
   "execution_count": 34,
   "metadata": {
    "collapsed": false
   },
   "outputs": [
    {
     "name": "stderr",
     "output_type": "stream",
     "text": [
      "/usr/local/lib/python2.7/dist-packages/ipykernel/__main__.py:2: FutureWarning: sort(columns=....) is deprecated, use sort_values(by=.....)\n",
      "  from ipykernel import kernelapp as app\n"
     ]
    },
    {
     "data": {
      "text/plain": [
       "1  1985    Jessica\n",
       "   1986    Jessica\n",
       "   1987    Jessica\n",
       "   1988    Jessica\n",
       "   1989    Jessica\n",
       "dtype: object"
      ]
     },
     "execution_count": 34,
     "metadata": {},
     "output_type": "execute_result"
    }
   ],
   "source": [
    "toptens('F',1985,1995).stack().head()"
   ]
  },
  {
   "cell_type": "code",
   "execution_count": 35,
   "metadata": {
    "collapsed": false
   },
   "outputs": [
    {
     "name": "stderr",
     "output_type": "stream",
     "text": [
      "/usr/local/lib/python2.7/dist-packages/ipykernel/__main__.py:2: FutureWarning: sort(columns=....) is deprecated, use sort_values(by=.....)\n",
      "  from ipykernel import kernelapp as app\n"
     ]
    },
    {
     "data": {
      "text/plain": [
       "Amanda       11\n",
       "Jessica      11\n",
       "Ashley       11\n",
       "Elizabeth    11\n",
       "Sarah        11\n",
       "Brittany     10\n",
       "Stephanie     9\n",
       "Samantha      8\n",
       "Jennifer      7\n",
       "Emily         5\n",
       "Nicole        4\n",
       "Megan         3\n",
       "Heather       3\n",
       "Taylor        3\n",
       "Lauren        2\n",
       "Hannah        1\n",
       "dtype: int64"
      ]
     },
     "execution_count": 35,
     "metadata": {},
     "output_type": "execute_result"
    }
   ],
   "source": [
    "toptens('F',1985,1995).stack().value_counts()"
   ]
  },
  {
   "cell_type": "code",
   "execution_count": 36,
   "metadata": {
    "collapsed": false
   },
   "outputs": [
    {
     "name": "stderr",
     "output_type": "stream",
     "text": [
      "/usr/local/lib/python2.7/dist-packages/ipykernel/__main__.py:2: FutureWarning: sort(columns=....) is deprecated, use sort_values(by=.....)\n",
      "  from ipykernel import kernelapp as app\n"
     ]
    }
   ],
   "source": [
    "popular = toptens('F',1985,1995).stack().value_counts().index[:6]"
   ]
  },
  {
   "cell_type": "code",
   "execution_count": 37,
   "metadata": {
    "collapsed": false
   },
   "outputs": [
    {
     "data": {
      "text/plain": [
       "<matplotlib.legend.Legend at 0x7f1aa6920550>"
      ]
     },
     "execution_count": 37,
     "metadata": {},
     "output_type": "execute_result"
    },
    {
     "data": {
      "image/png": "[encoded data removed]",
      "text/plain": [
       "<matplotlib.figure.Figure at 0x7f1aa68e60d0>"
      ]
     },
     "metadata": {},
     "output_type": "display_data"
    }
   ],
   "source": [
    "pp.figure(figsize=(12,2.5))\n",
    "\n",
    "for name in popular:\n",
    "    plotname('F',name)\n",
    "    \n",
    "pp.legend(popular)"
   ]
  },
  {
   "cell_type": "code",
   "execution_count": 38,
   "metadata": {
    "collapsed": false
   },
   "outputs": [
    {
     "data": {
      "text/html": [
       "<div>\n",
       "<table border=\"1\" class=\"dataframe\">\n",
       "  <thead>\n",
       "    <tr style=\"text-align: right;\">\n",
       "      <th></th>\n",
       "      <th></th>\n",
       "      <th>number</th>\n",
       "      <th>year</th>\n",
       "    </tr>\n",
       "    <tr>\n",
       "      <th>sex</th>\n",
       "      <th>name</th>\n",
       "      <th></th>\n",
       "      <th></th>\n",
       "    </tr>\n",
       "  </thead>\n",
       "  <tbody>\n",
       "    <tr>\n",
       "      <th rowspan=\"5\" valign=\"top\">F</th>\n",
       "      <th>Aabha</th>\n",
       "      <td>21</td>\n",
       "      <td>6037</td>\n",
       "    </tr>\n",
       "    <tr>\n",
       "      <th>Aabriella</th>\n",
       "      <td>10</td>\n",
       "      <td>4022</td>\n",
       "    </tr>\n",
       "    <tr>\n",
       "      <th>Aaden</th>\n",
       "      <td>5</td>\n",
       "      <td>2009</td>\n",
       "    </tr>\n",
       "    <tr>\n",
       "      <th>Aadhira</th>\n",
       "      <td>29</td>\n",
       "      <td>6039</td>\n",
       "    </tr>\n",
       "    <tr>\n",
       "      <th>Aadhya</th>\n",
       "      <td>639</td>\n",
       "      <td>16084</td>\n",
       "    </tr>\n",
       "  </tbody>\n",
       "</table>\n",
       "</div>"
      ],
      "text/plain": [
       "               number   year\n",
       "sex name                    \n",
       "F   Aabha          21   6037\n",
       "    Aabriella      10   4022\n",
       "    Aaden           5   2009\n",
       "    Aadhira        29   6039\n",
       "    Aadhya        639  16084"
      ]
     },
     "execution_count": 38,
     "metadata": {},
     "output_type": "execute_result"
    }
   ],
   "source": [
    "allyears.groupby(['sex','name']).sum().head()"
   ]
  },
  {
   "cell_type": "code",
   "execution_count": 39,
   "metadata": {
    "collapsed": false
   },
   "outputs": [
    {
     "data": {
      "text/plain": [
       "sex  name     \n",
       "F    Aabha         21\n",
       "     Aabriella     10\n",
       "     Aaden          5\n",
       "     Aadhira       29\n",
       "     Aadhya       639\n",
       "Name: number, dtype: int64"
      ]
     },
     "execution_count": 39,
     "metadata": {},
     "output_type": "execute_result"
    }
   ],
   "source": [
    "allyears.groupby(['sex','name'])['number'].sum().head()"
   ]
  },
  {
   "cell_type": "code",
   "execution_count": 40,
   "metadata": {
    "collapsed": true
   },
   "outputs": [],
   "source": [
    "totals = allyears.groupby(['sex','name'])['number'].sum()"
   ]
  },
  {
   "cell_type": "code",
   "execution_count": 41,
   "metadata": {
    "collapsed": true
   },
   "outputs": [],
   "source": [
    "def sumsq(x):\n",
    "    return sum(x**2)"
   ]
  },
  {
   "cell_type": "code",
   "execution_count": 42,
   "metadata": {
    "collapsed": true
   },
   "outputs": [],
   "source": [
    "spikyness = allyears.groupby(['sex','name'])['number'].agg(sumsq) / totals**2"
   ]
  },
  {
   "cell_type": "code",
   "execution_count": 43,
   "metadata": {
    "collapsed": false
   },
   "outputs": [
    {
     "data": {
      "text/plain": [
       "sex  name     \n",
       "F    Aabha        0.351474\n",
       "     Aabriella    0.500000\n",
       "     Aaden        1.000000\n",
       "     Aadhira      0.362663\n",
       "     Aadhya       0.262673\n",
       "Name: number, dtype: float64"
      ]
     },
     "execution_count": 43,
     "metadata": {},
     "output_type": "execute_result"
    }
   ],
   "source": [
    "spikyness.head()"
   ]
  },
  {
   "cell_type": "code",
   "execution_count": 44,
   "metadata": {
    "collapsed": false
   },
   "outputs": [
    {
     "name": "stderr",
     "output_type": "stream",
     "text": [
      "/usr/local/lib/python2.7/dist-packages/ipykernel/__main__.py:2: FutureWarning: sort is deprecated, use sort_values(inplace=True) for for INPLACE sorting\n",
      "  from ipykernel import kernelapp as app\n"
     ]
    },
    {
     "data": {
      "text/plain": [
       "sex  name     \n",
       "M    Iker         0.199368\n",
       "     Shaquille    0.195689\n",
       "     Jase         0.182165\n",
       "F    Adalynn      0.177107\n",
       "     Harper       0.164827\n",
       "M    Brantley     0.160532\n",
       "F    Arya         0.159564\n",
       "M    Bentley      0.159259\n",
       "F    Miley        0.145886\n",
       "     Paisley      0.144966\n",
       "Name: number, dtype: float64"
      ]
     },
     "execution_count": 44,
     "metadata": {},
     "output_type": "execute_result"
    }
   ],
   "source": [
    "spiky_common = spikyness[totals > 5000].copy()\n",
    "spiky_common.sort(ascending=False)\n",
    "spiky_common.head(10)"
   ]
  },
  {
   "cell_type": "code",
   "execution_count": 45,
   "metadata": {
    "collapsed": false
   },
   "outputs": [
    {
     "data": {
      "text/plain": [
       "sex  name  \n",
       "F    Rosa      0.008512\n",
       "     Mollie    0.008437\n",
       "M    Ike       0.008310\n",
       "F    Delia     0.008263\n",
       "     Louisa    0.007931\n",
       "Name: number, dtype: float64"
      ]
     },
     "execution_count": 45,
     "metadata": {},
     "output_type": "execute_result"
    }
   ],
   "source": [
    "spiky_common.tail(5)"
   ]
  },
  {
   "cell_type": "code",
   "execution_count": 46,
   "metadata": {
    "collapsed": false
   },
   "outputs": [
    {
     "data": {
      "image/png": "[encoded data removed]",
      "text/plain": [
       "<matplotlib.figure.Figure at 0x7f1aa5986f90>"
      ]
     },
     "metadata": {},
     "output_type": "display_data"
    }
   ],
   "source": [
    "pp.figure(figsize=(12,2.5))\n",
    "\n",
    "plotname('F','Louisa')\n",
    "plotname('M','Shaquille')"
   ]
  },
  {
   "cell_type": "code",
   "execution_count": 47,
   "metadata": {
    "collapsed": true
   },
   "outputs": [],
   "source": [
    "fads = spiky_common.head(10).index.values"
   ]
  },
  {
   "cell_type": "code",
   "execution_count": 48,
   "metadata": {
    "collapsed": false
   },
   "outputs": [
    {
     "data": {
      "text/plain": [
       "<matplotlib.legend.Legend at 0x7f1aa598dcd0>"
      ]
     },
     "execution_count": 48,
     "metadata": {},
     "output_type": "execute_result"
    },
    {
     "data": {
      "image/png": "[encoded data removed]",
      "text/plain": [
       "<matplotlib.figure.Figure at 0x7f1aa694db10>"
      ]
     },
     "metadata": {},
     "output_type": "display_data"
    }
   ],
   "source": [
    "pp.figure(figsize=(12,2.5))\n",
    "\n",
    "for sex,name in fads:\n",
    "    plotname(sex,name)\n",
    "\n",
    "pp.legend([name for sex,name in fads],loc='upper left')"
   ]
  },
  {
   "cell_type": "code",
   "execution_count": 49,
   "metadata": {
    "collapsed": true
   },
   "outputs": [],
   "source": [
    "totals_recent = allyears[allyears['year'] > 2005].groupby(['sex','name'])['number'].sum()"
   ]
  },
  {
   "cell_type": "code",
   "execution_count": 50,
   "metadata": {
    "collapsed": false
   },
   "outputs": [
    {
     "name": "stderr",
     "output_type": "stream",
     "text": [
      "/usr/local/lib/python2.7/dist-packages/ipykernel/__main__.py:2: FutureWarning: sort is deprecated, use sort_values(inplace=True) for for INPLACE sorting\n",
      "  from ipykernel import kernelapp as app\n"
     ]
    },
    {
     "data": {
      "text/plain": [
       "sex  name     \n",
       "M    Shaquille    0.195689\n",
       "F    Katina       0.120872\n",
       "     Krystle      0.100106\n",
       "M    Devante      0.099617\n",
       "F    Khadijah     0.091410\n",
       "     Shanice      0.089675\n",
       "     Iesha        0.088810\n",
       "     Shaniqua     0.087601\n",
       "     Sheena       0.080751\n",
       "     Marquita     0.080338\n",
       "Name: number, dtype: float64"
      ]
     },
     "execution_count": 50,
     "metadata": {},
     "output_type": "execute_result"
    }
   ],
   "source": [
    "spiky_common = spikyness[(totals > 5000) & (totals_recent < 1000)].copy()\n",
    "spiky_common.sort(ascending=False)\n",
    "spiky_common.head(10)"
   ]
  },
  {
   "cell_type": "code",
   "execution_count": 51,
   "metadata": {
    "collapsed": true
   },
   "outputs": [],
   "source": [
    "fads = spiky_common.head(10).index.values"
   ]
  },
  {
   "cell_type": "code",
   "execution_count": 52,
   "metadata": {
    "collapsed": false
   },
   "outputs": [
    {
     "data": {
      "text/plain": [
       "<matplotlib.legend.Legend at 0x7f1aa6ad4ed0>"
      ]
     },
     "execution_count": 52,
     "metadata": {},
     "output_type": "execute_result"
    },
    {
     "data": {
      "image/png": "[encoded data removed]",
      "text/plain": [
       "<matplotlib.figure.Figure at 0x7f1aa6ad4310>"
      ]
     },
     "metadata": {},
     "output_type": "display_data"
    }
   ],
   "source": [
    "pp.figure(figsize=(12,2.5))\n",
    "\n",
    "for sex,name in fads:\n",
    "    plotname(sex,name)\n",
    "\n",
    "pp.legend([name for sex,name in fads],loc='upper left')"
   ]
  },
  {
   "cell_type": "markdown",
   "metadata": {
    "collapsed": true
   },
   "source": [
    "# Start Here"
   ]
  },
  {
   "cell_type": "code",
   "execution_count": 53,
   "metadata": {
    "collapsed": true
   },
   "outputs": [],
   "source": [
    "totals = allyears.groupby(['sex','name'])['number'].sum()"
   ]
  },
  {
   "cell_type": "code",
   "execution_count": 54,
   "metadata": {
    "collapsed": false
   },
   "outputs": [
    {
     "data": {
      "text/html": [
       "<div>\n",
       "<table border=\"1\" class=\"dataframe\">\n",
       "  <thead>\n",
       "    <tr style=\"text-align: right;\">\n",
       "      <th>sex</th>\n",
       "      <th>F</th>\n",
       "      <th>M</th>\n",
       "    </tr>\n",
       "    <tr>\n",
       "      <th>name</th>\n",
       "      <th></th>\n",
       "      <th></th>\n",
       "    </tr>\n",
       "  </thead>\n",
       "  <tbody>\n",
       "    <tr>\n",
       "      <th>Aaban</th>\n",
       "      <td>NaN</td>\n",
       "      <td>72</td>\n",
       "    </tr>\n",
       "    <tr>\n",
       "      <th>Aabha</th>\n",
       "      <td>21</td>\n",
       "      <td>NaN</td>\n",
       "    </tr>\n",
       "    <tr>\n",
       "      <th>Aabid</th>\n",
       "      <td>NaN</td>\n",
       "      <td>5</td>\n",
       "    </tr>\n",
       "    <tr>\n",
       "      <th>Aabriella</th>\n",
       "      <td>10</td>\n",
       "      <td>NaN</td>\n",
       "    </tr>\n",
       "    <tr>\n",
       "      <th>Aadam</th>\n",
       "      <td>NaN</td>\n",
       "      <td>196</td>\n",
       "    </tr>\n",
       "  </tbody>\n",
       "</table>\n",
       "</div>"
      ],
      "text/plain": [
       "sex         F    M\n",
       "name              \n",
       "Aaban     NaN   72\n",
       "Aabha      21  NaN\n",
       "Aabid     NaN    5\n",
       "Aabriella  10  NaN\n",
       "Aadam     NaN  196"
      ]
     },
     "execution_count": 54,
     "metadata": {},
     "output_type": "execute_result"
    }
   ],
   "source": [
    "totals_bysex = totals.unstack('sex')\n",
    "totals_bysex.head()"
   ]
  },
  {
   "cell_type": "code",
   "execution_count": 55,
   "metadata": {
    "collapsed": true
   },
   "outputs": [],
   "source": [
    "totals_both = totals_bysex.sum(axis = 1)"
   ]
  },
  {
   "cell_type": "code",
   "execution_count": 56,
   "metadata": {
    "collapsed": false
   },
   "outputs": [
    {
     "data": {
      "text/plain": [
       "name\n",
       "Aaban         72\n",
       "Aabha         21\n",
       "Aabid          5\n",
       "Aabriella     10\n",
       "Aadam        196\n",
       "dtype: float64"
      ]
     },
     "execution_count": 56,
     "metadata": {},
     "output_type": "execute_result"
    }
   ],
   "source": [
    "totals_both.head()"
   ]
  },
  {
   "cell_type": "code",
   "execution_count": 57,
   "metadata": {
    "collapsed": true
   },
   "outputs": [],
   "source": [
    "ratio = totals_bysex['F'] / totals_bysex['M']"
   ]
  },
  {
   "cell_type": "code",
   "execution_count": 58,
   "metadata": {
    "collapsed": false
   },
   "outputs": [
    {
     "data": {
      "text/plain": [
       "name\n",
       "Aaban       NaN\n",
       "Aabha       NaN\n",
       "Aabid       NaN\n",
       "Aabriella   NaN\n",
       "Aadam       NaN\n",
       "dtype: float64"
      ]
     },
     "execution_count": 58,
     "metadata": {},
     "output_type": "execute_result"
    }
   ],
   "source": [
    "ratio.head()"
   ]
  },
  {
   "cell_type": "code",
   "execution_count": 59,
   "metadata": {
    "collapsed": true
   },
   "outputs": [],
   "source": [
    "unisex = (ratio > 0.25) & (ratio < 4)"
   ]
  },
  {
   "cell_type": "code",
   "execution_count": 60,
   "metadata": {
    "collapsed": false
   },
   "outputs": [
    {
     "name": "stderr",
     "output_type": "stream",
     "text": [
      "/usr/local/lib/python2.7/dist-packages/ipykernel/__main__.py:2: FutureWarning: sort is deprecated, use sort_values(inplace=True) for for INPLACE sorting\n",
      "  from ipykernel import kernelapp as app\n"
     ]
    },
    {
     "data": {
      "text/plain": [
       "name\n",
       "Willie    593888\n",
       "Jordan    479434\n",
       "Taylor    416096\n",
       "Leslie    376587\n",
       "Jamie     350262\n",
       "dtype: float64"
      ]
     },
     "execution_count": 60,
     "metadata": {},
     "output_type": "execute_result"
    }
   ],
   "source": [
    "totals_both = totals_both[unisex]\n",
    "totals_both.sort(ascending=False)\n",
    "totals_both.head(5)"
   ]
  },
  {
   "cell_type": "code",
   "execution_count": 61,
   "metadata": {
    "collapsed": false
   },
   "outputs": [
    {
     "data": {
      "image/png": "[encoded data removed]",
      "text/plain": [
       "<matplotlib.figure.Figure at 0x7f1aa696bed0>"
      ]
     },
     "metadata": {},
     "output_type": "display_data"
    }
   ],
   "source": [
    "names = totals_both.head(10).index.values\n",
    "\n",
    "pp.figure(figsize=(12,12))\n",
    "\n",
    "for i,name in enumerate(names):\n",
    "    pp.subplot(5,2,i+1)\n",
    "    \n",
    "    plotname('M',name)\n",
    "    plotname('F',name)\n",
    "    \n",
    "    pp.legend([name + ' M',name + ' F'],loc='upper left')"
   ]
  },
  {
   "cell_type": "code",
   "execution_count": null,
   "metadata": {
    "collapsed": true
   },
   "outputs": [],
   "source": []
  }
 ],
 "metadata": {
  "kernelspec": {
   "display_name": "Python 2",
   "language": "python",
   "name": "python2"
  },
  "language_info": {
   "codemirror_mode": {
    "name": "ipython",
    "version": 2
   },
   "file_extension": ".py",
   "mimetype": "text/x-python",
   "name": "python",
   "nbconvert_exporter": "python",
   "pygments_lexer": "ipython2",
   "version": "2.7.6"
  }
 },
 "nbformat": 4,
 "nbformat_minor": 0
}
